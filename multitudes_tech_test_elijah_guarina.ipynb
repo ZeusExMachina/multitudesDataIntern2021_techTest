{
 "cells": [
  {
   "cell_type": "code",
   "execution_count": 33,
   "id": "e353c621",
   "metadata": {},
   "outputs": [],
   "source": [
    "import numpy as np\n",
    "import pandas as pd\n",
    "import matplotlib.pyplot as plt\n",
    "import seaborn as sb\n",
    "\n",
    "import os\n",
    "import json\n",
    "import datetime"
   ]
  },
  {
   "cell_type": "code",
   "execution_count": 2,
   "id": "af5ad5b9",
   "metadata": {},
   "outputs": [],
   "source": [
    "DATAFOLDER_PATH = \"multitudes_data_intern_tech_test-data/data/\"\n",
    "TIMESTAMP_FORMAT = \"%Y-%m-%dT%H:%M:%SZ\""
   ]
  },
  {
   "cell_type": "code",
   "execution_count": 3,
   "id": "21d9d963",
   "metadata": {},
   "outputs": [
    {
     "data": {
      "text/html": [
       "<div>\n",
       "<style scoped>\n",
       "    .dataframe tbody tr th:only-of-type {\n",
       "        vertical-align: middle;\n",
       "    }\n",
       "\n",
       "    .dataframe tbody tr th {\n",
       "        vertical-align: top;\n",
       "    }\n",
       "\n",
       "    .dataframe thead th {\n",
       "        text-align: right;\n",
       "    }\n",
       "</style>\n",
       "<table border=\"1\" class=\"dataframe\">\n",
       "  <thead>\n",
       "    <tr style=\"text-align: right;\">\n",
       "      <th></th>\n",
       "      <th>github_username</th>\n",
       "      <th>team</th>\n",
       "      <th>seniority</th>\n",
       "    </tr>\n",
       "  </thead>\n",
       "  <tbody>\n",
       "    <tr>\n",
       "      <th>0</th>\n",
       "      <td>hadley</td>\n",
       "      <td>Ravenclaw</td>\n",
       "      <td>senior</td>\n",
       "    </tr>\n",
       "    <tr>\n",
       "      <th>1</th>\n",
       "      <td>kohske</td>\n",
       "      <td>Slytherin</td>\n",
       "      <td>senior</td>\n",
       "    </tr>\n",
       "    <tr>\n",
       "      <th>2</th>\n",
       "      <td>lock</td>\n",
       "      <td>Gryffindor</td>\n",
       "      <td>intermediate</td>\n",
       "    </tr>\n",
       "    <tr>\n",
       "      <th>3</th>\n",
       "      <td>jiho</td>\n",
       "      <td>Hufflepuff</td>\n",
       "      <td>senior</td>\n",
       "    </tr>\n",
       "    <tr>\n",
       "      <th>4</th>\n",
       "      <td>BrianDiggs</td>\n",
       "      <td>Hufflepuff</td>\n",
       "      <td>junior</td>\n",
       "    </tr>\n",
       "    <tr>\n",
       "      <th>...</th>\n",
       "      <td>...</td>\n",
       "      <td>...</td>\n",
       "      <td>...</td>\n",
       "    </tr>\n",
       "    <tr>\n",
       "      <th>72</th>\n",
       "      <td>seanpor</td>\n",
       "      <td>Slytherin</td>\n",
       "      <td>intermediate</td>\n",
       "    </tr>\n",
       "    <tr>\n",
       "      <th>73</th>\n",
       "      <td>jonthegeek</td>\n",
       "      <td>Hufflepuff</td>\n",
       "      <td>junior</td>\n",
       "    </tr>\n",
       "    <tr>\n",
       "      <th>74</th>\n",
       "      <td>beckymaust</td>\n",
       "      <td>Gryffindor</td>\n",
       "      <td>intermediate</td>\n",
       "    </tr>\n",
       "    <tr>\n",
       "      <th>75</th>\n",
       "      <td>sastoudt</td>\n",
       "      <td>Gryffindor</td>\n",
       "      <td>junior</td>\n",
       "    </tr>\n",
       "    <tr>\n",
       "      <th>76</th>\n",
       "      <td>TEST</td>\n",
       "      <td>Slytherin</td>\n",
       "      <td>senior</td>\n",
       "    </tr>\n",
       "  </tbody>\n",
       "</table>\n",
       "<p>77 rows × 3 columns</p>\n",
       "</div>"
      ],
      "text/plain": [
       "   github_username        team     seniority\n",
       "0           hadley   Ravenclaw        senior\n",
       "1           kohske   Slytherin        senior\n",
       "2             lock  Gryffindor  intermediate\n",
       "3             jiho  Hufflepuff        senior\n",
       "4       BrianDiggs  Hufflepuff        junior\n",
       "..             ...         ...           ...\n",
       "72         seanpor   Slytherin  intermediate\n",
       "73      jonthegeek  Hufflepuff        junior\n",
       "74      beckymaust  Gryffindor  intermediate\n",
       "75        sastoudt  Gryffindor        junior\n",
       "76            TEST   Slytherin        senior\n",
       "\n",
       "[77 rows x 3 columns]"
      ]
     },
     "metadata": {},
     "output_type": "display_data"
    }
   ],
   "source": [
    "teamMembers_dataset = pd.read_csv(DATAFOLDER_PATH + \"team_members.csv\");\n",
    "display(teamMembers_dataset)"
   ]
  },
  {
   "cell_type": "markdown",
   "id": "3719c5a0",
   "metadata": {},
   "source": [
    "## 1. Combine comments data from different months to create a dataset for a whole year."
   ]
  },
  {
   "cell_type": "code",
   "execution_count": 4,
   "id": "2853921b",
   "metadata": {},
   "outputs": [
    {
     "data": {
      "text/plain": [
       "['multitudes_data_intern_tech_test-data/data/comments_1.json',\n",
       " 'multitudes_data_intern_tech_test-data/data/comments_10.json',\n",
       " 'multitudes_data_intern_tech_test-data/data/comments_11.json',\n",
       " 'multitudes_data_intern_tech_test-data/data/comments_12.json',\n",
       " 'multitudes_data_intern_tech_test-data/data/comments_2.json',\n",
       " 'multitudes_data_intern_tech_test-data/data/comments_3.json',\n",
       " 'multitudes_data_intern_tech_test-data/data/comments_4.json',\n",
       " 'multitudes_data_intern_tech_test-data/data/comments_5.json',\n",
       " 'multitudes_data_intern_tech_test-data/data/comments_6.json',\n",
       " 'multitudes_data_intern_tech_test-data/data/comments_7.json',\n",
       " 'multitudes_data_intern_tech_test-data/data/comments_8.json',\n",
       " 'multitudes_data_intern_tech_test-data/data/comments_9.json']"
      ]
     },
     "execution_count": 4,
     "metadata": {},
     "output_type": "execute_result"
    }
   ],
   "source": [
    "def getSingleFiletypeInFolder(filetype, folderPath):\n",
    "    json_filepaths = []\n",
    "    for itemPath in os.listdir(folderPath):\n",
    "        if itemPath.endswith(filetype):\n",
    "            json_filepaths.append(folderPath + itemPath)\n",
    "    return json_filepaths\n",
    "\n",
    "json_filepaths = getSingleFiletypeInFolder(\".json\", DATAFOLDER_PATH)\n",
    "json_filepaths"
   ]
  },
  {
   "cell_type": "code",
   "execution_count": 5,
   "id": "14a58554",
   "metadata": {},
   "outputs": [
    {
     "data": {
      "text/html": [
       "<div>\n",
       "<style scoped>\n",
       "    .dataframe tbody tr th:only-of-type {\n",
       "        vertical-align: middle;\n",
       "    }\n",
       "\n",
       "    .dataframe tbody tr th {\n",
       "        vertical-align: top;\n",
       "    }\n",
       "\n",
       "    .dataframe thead th {\n",
       "        text-align: right;\n",
       "    }\n",
       "</style>\n",
       "<table border=\"1\" class=\"dataframe\">\n",
       "  <thead>\n",
       "    <tr style=\"text-align: right;\">\n",
       "      <th></th>\n",
       "      <th>id</th>\n",
       "      <th>author</th>\n",
       "      <th>created date</th>\n",
       "      <th>text</th>\n",
       "    </tr>\n",
       "  </thead>\n",
       "  <tbody>\n",
       "    <tr>\n",
       "      <th>0</th>\n",
       "      <td>MDEyOklzc3VlQ29tbWVudDQ1NTc1MzEwMw==</td>\n",
       "      <td>lock</td>\n",
       "      <td>2020-01-19 06:07:16</td>\n",
       "      <td>This old issue has been automatically locked. ...</td>\n",
       "    </tr>\n",
       "    <tr>\n",
       "      <th>1</th>\n",
       "      <td>MDEyOklzc3VlQ29tbWVudDQ1NTc1MzEwMQ==</td>\n",
       "      <td>lock</td>\n",
       "      <td>2020-01-19 06:07:14</td>\n",
       "      <td>This old issue has been automatically locked. ...</td>\n",
       "    </tr>\n",
       "    <tr>\n",
       "      <th>2</th>\n",
       "      <td>MDEyOklzc3VlQ29tbWVudDQ1NTc1MzEwNA==</td>\n",
       "      <td>lock</td>\n",
       "      <td>2020-01-19 06:07:18</td>\n",
       "      <td>This old issue has been automatically locked. ...</td>\n",
       "    </tr>\n",
       "    <tr>\n",
       "      <th>3</th>\n",
       "      <td>MDEyOklzc3VlQ29tbWVudDQ1NTc1MzEwNg==</td>\n",
       "      <td>lock</td>\n",
       "      <td>2020-01-19 06:07:20</td>\n",
       "      <td>This old issue has been automatically locked. ...</td>\n",
       "    </tr>\n",
       "    <tr>\n",
       "      <th>4</th>\n",
       "      <td>MDEyOklzc3VlQ29tbWVudDQ1NTc4NDc0OQ==</td>\n",
       "      <td>lock</td>\n",
       "      <td>2020-01-19 14:25:02</td>\n",
       "      <td>This old issue has been automatically locked. ...</td>\n",
       "    </tr>\n",
       "    <tr>\n",
       "      <th>...</th>\n",
       "      <td>...</td>\n",
       "      <td>...</td>\n",
       "      <td>...</td>\n",
       "      <td>...</td>\n",
       "    </tr>\n",
       "    <tr>\n",
       "      <th>828</th>\n",
       "      <td>MDEyOklzc3VlQ29tbWVudDIxMzIyMDk=</td>\n",
       "      <td>andrie</td>\n",
       "      <td>2020-09-19 10:25:25</td>\n",
       "      <td>I have made all the requested changes.</td>\n",
       "    </tr>\n",
       "    <tr>\n",
       "      <th>829</th>\n",
       "      <td>MDEyOklzc3VlQ29tbWVudDU0MDkzNjg5</td>\n",
       "      <td>jiho</td>\n",
       "      <td>2020-09-01 21:52:56</td>\n",
       "      <td>Any chance of getting this in? I am using x[wh...</td>\n",
       "    </tr>\n",
       "    <tr>\n",
       "      <th>830</th>\n",
       "      <td>MDEyOklzc3VlQ29tbWVudDU1ODEyODc1</td>\n",
       "      <td>matthieugomez</td>\n",
       "      <td>2020-09-16 21:00:25</td>\n",
       "      <td>Do you really need which?\\nstring[str_detect(s...</td>\n",
       "    </tr>\n",
       "    <tr>\n",
       "      <th>831</th>\n",
       "      <td>MDEyOklzc3VlQ29tbWVudDU1ODYyODg0</td>\n",
       "      <td>jiho</td>\n",
       "      <td>2020-09-17 08:19:10</td>\n",
       "      <td>Yes because:\\nstr_detect(c(NA, \"abc\"), \"a\")\\n\\...</td>\n",
       "    </tr>\n",
       "    <tr>\n",
       "      <th>832</th>\n",
       "      <td>MDEyOklzc3VlQ29tbWVudDU1ODkxMzY4</td>\n",
       "      <td>matthieugomez</td>\n",
       "      <td>2020-09-17 13:16:50</td>\n",
       "      <td>Thanks!</td>\n",
       "    </tr>\n",
       "  </tbody>\n",
       "</table>\n",
       "<p>833 rows × 4 columns</p>\n",
       "</div>"
      ],
      "text/plain": [
       "                                       id         author        created date  \\\n",
       "0    MDEyOklzc3VlQ29tbWVudDQ1NTc1MzEwMw==           lock 2020-01-19 06:07:16   \n",
       "1    MDEyOklzc3VlQ29tbWVudDQ1NTc1MzEwMQ==           lock 2020-01-19 06:07:14   \n",
       "2    MDEyOklzc3VlQ29tbWVudDQ1NTc1MzEwNA==           lock 2020-01-19 06:07:18   \n",
       "3    MDEyOklzc3VlQ29tbWVudDQ1NTc1MzEwNg==           lock 2020-01-19 06:07:20   \n",
       "4    MDEyOklzc3VlQ29tbWVudDQ1NTc4NDc0OQ==           lock 2020-01-19 14:25:02   \n",
       "..                                    ...            ...                 ...   \n",
       "828      MDEyOklzc3VlQ29tbWVudDIxMzIyMDk=         andrie 2020-09-19 10:25:25   \n",
       "829      MDEyOklzc3VlQ29tbWVudDU0MDkzNjg5           jiho 2020-09-01 21:52:56   \n",
       "830      MDEyOklzc3VlQ29tbWVudDU1ODEyODc1  matthieugomez 2020-09-16 21:00:25   \n",
       "831      MDEyOklzc3VlQ29tbWVudDU1ODYyODg0           jiho 2020-09-17 08:19:10   \n",
       "832      MDEyOklzc3VlQ29tbWVudDU1ODkxMzY4  matthieugomez 2020-09-17 13:16:50   \n",
       "\n",
       "                                                  text  \n",
       "0    This old issue has been automatically locked. ...  \n",
       "1    This old issue has been automatically locked. ...  \n",
       "2    This old issue has been automatically locked. ...  \n",
       "3    This old issue has been automatically locked. ...  \n",
       "4    This old issue has been automatically locked. ...  \n",
       "..                                                 ...  \n",
       "828             I have made all the requested changes.  \n",
       "829  Any chance of getting this in? I am using x[wh...  \n",
       "830  Do you really need which?\\nstring[str_detect(s...  \n",
       "831  Yes because:\\nstr_detect(c(NA, \"abc\"), \"a\")\\n\\...  \n",
       "832                                            Thanks!  \n",
       "\n",
       "[833 rows x 4 columns]"
      ]
     },
     "metadata": {},
     "output_type": "display_data"
    }
   ],
   "source": [
    "def createListOfCommentFromJson(filepath):\n",
    "    comments_data = []\n",
    "    with open(filepath) as comments_file:\n",
    "        data = json.load(comments_file)\n",
    "        for repo in data:\n",
    "            for comment in data[repo]:\n",
    "                comment_arr = []\n",
    "                comment_arr.append(comment[\"comment_id\"])\n",
    "                comment_arr.append(comment[\"comment_author\"])\n",
    "                comment_arr.append(datetime.datetime.strptime(comment[\"comment_created_date\"], TIMESTAMP_FORMAT))\n",
    "                comment_arr.append(comment[\"comment_text\"])\n",
    "                comments_data.append(comment_arr)\n",
    "    return comments_data\n",
    "\n",
    "comments_dataset = []\n",
    "for i in range(len(json_filepaths)):\n",
    "    comments_dataset = comments_dataset + createListOfCommentFromJson(json_filepaths[i])\n",
    "comments_dataset = pd.DataFrame(comments_dataset, columns=[\"id\", \"author\", \"created date\", \"text\"])\n",
    "\n",
    "display(comments_dataset)"
   ]
  },
  {
   "cell_type": "markdown",
   "id": "e9593509",
   "metadata": {},
   "source": [
    "## 2. Calculate the number of comments made in the months of April and May each."
   ]
  },
  {
   "cell_type": "code",
   "execution_count": 6,
   "id": "ff66d833",
   "metadata": {},
   "outputs": [
    {
     "name": "stdout",
     "output_type": "stream",
     "text": [
      "Number of comments made in April: 30\n",
      "Number of comments made in May: 62\n"
     ]
    }
   ],
   "source": [
    "numOfCommentsInApril = 0\n",
    "numOfCommentsInMay = 0\n",
    "\n",
    "for index, row in comments_dataset.iterrows():\n",
    "    if row[\"created date\"].month == 4:\n",
    "        numOfCommentsInApril = numOfCommentsInApril + 1\n",
    "    elif row[\"created date\"].month == 5:\n",
    "        numOfCommentsInMay = numOfCommentsInMay + 1\n",
    "    \n",
    "print(\"Number of comments made in April:\", numOfCommentsInApril)\n",
    "print(\"Number of comments made in May:\", numOfCommentsInMay)"
   ]
  },
  {
   "cell_type": "markdown",
   "id": "9b171b07",
   "metadata": {},
   "source": [
    "## 3. Calculate the number of comments made in the months of April and May each, split by team members."
   ]
  },
  {
   "cell_type": "code",
   "execution_count": 7,
   "id": "51977d02",
   "metadata": {},
   "outputs": [],
   "source": [
    "# Getting counts of comments in comments_dataset per person\n",
    "teamMember_comments_april = {}\n",
    "teamMember_comments_may = {}\n",
    "for index, row in comments_dataset.iterrows():\n",
    "    author = row[\"author\"]\n",
    "    month = row[\"created date\"].month\n",
    "    if month == 4:\n",
    "        # April\n",
    "        teamMemberInDict_april = teamMember_comments_april.get(author)\n",
    "        if teamMemberInDict_april == None: teamMember_comments_april[author] = 1\n",
    "        else: teamMember_comments_april[author] = teamMemberInDict_april + 1\n",
    "    elif month == 5:\n",
    "        # May\n",
    "        teamMemberInDict_may = teamMember_comments_may.get(author)\n",
    "        if teamMemberInDict_may == None: teamMember_comments_may[author] = 1\n",
    "        else: teamMember_comments_may[author] = teamMemberInDict_may + 1"
   ]
  },
  {
   "cell_type": "code",
   "execution_count": 8,
   "id": "267a2529",
   "metadata": {},
   "outputs": [
    {
     "name": "stdout",
     "output_type": "stream",
     "text": [
      "Number of comments made by team member \"hadley\" in April: 5\n",
      "Number of comments made by team member \"hadley\" in May: 17\n",
      "Number of comments made by team member \"kohske\" in April: 0\n",
      "Number of comments made by team member \"kohske\" in May: 5\n",
      "Number of comments made by team member \"lock\" in April: 0\n",
      "Number of comments made by team member \"lock\" in May: 0\n",
      "Number of comments made by team member \"jiho\" in April: 0\n",
      "Number of comments made by team member \"jiho\" in May: 2\n",
      "Number of comments made by team member \"BrianDiggs\" in April: 0\n",
      "Number of comments made by team member \"BrianDiggs\" in May: 0\n",
      "Number of comments made by team member \"gsk3\" in April: 0\n",
      "Number of comments made by team member \"gsk3\" in May: 0\n",
      "Number of comments made by team member \"baptiste\" in April: 0\n",
      "Number of comments made by team member \"baptiste\" in May: 0\n",
      "Number of comments made by team member \"wch\" in April: 0\n",
      "Number of comments made by team member \"wch\" in May: 0\n",
      "Number of comments made by team member \"wligtenberg\" in April: 0\n",
      "Number of comments made by team member \"wligtenberg\" in May: 0\n",
      "Number of comments made by team member \"djmurphy420\" in April: 0\n",
      "Number of comments made by team member \"djmurphy420\" in May: 0\n",
      "Number of comments made by team member \"JakeRuss\" in April: 0\n",
      "Number of comments made by team member \"JakeRuss\" in May: 0\n",
      "Number of comments made by team member \"briandk\" in April: 0\n",
      "Number of comments made by team member \"briandk\" in May: 0\n",
      "Number of comments made by team member \"kenahoo\" in April: 0\n",
      "Number of comments made by team member \"kenahoo\" in May: 0\n",
      "Number of comments made by team member \"mannyishere\" in April: 0\n",
      "Number of comments made by team member \"mannyishere\" in May: 0\n",
      "Number of comments made by team member \"garrettgman\" in April: 4\n",
      "Number of comments made by team member \"garrettgman\" in May: 4\n",
      "Number of comments made by team member \"Vald\" in April: 0\n",
      "Number of comments made by team member \"Vald\" in May: 0\n",
      "Number of comments made by team member \"vspinu\" in April: 7\n",
      "Number of comments made by team member \"vspinu\" in May: 17\n",
      "Number of comments made by team member \"ijlyttle\" in April: 6\n",
      "Number of comments made by team member \"ijlyttle\" in May: 1\n",
      "Number of comments made by team member \"imanuelcostigan\" in April: 2\n",
      "Number of comments made by team member \"imanuelcostigan\" in May: 0\n",
      "Number of comments made by team member \"richierocks\" in April: 0\n",
      "Number of comments made by team member \"richierocks\" in May: 0\n",
      "Number of comments made by team member \"Unknown\" in April: 1\n",
      "Number of comments made by team member \"Unknown\" in May: 0\n",
      "Number of comments made by team member \"psarnow\" in April: 0\n",
      "Number of comments made by team member \"psarnow\" in May: 2\n",
      "Number of comments made by team member \"jasonelaw\" in April: 0\n",
      "Number of comments made by team member \"jasonelaw\" in May: 0\n",
      "Number of comments made by team member \"statwonk\" in April: 0\n",
      "Number of comments made by team member \"statwonk\" in May: 0\n",
      "Number of comments made by team member \"lselzer\" in April: 0\n",
      "Number of comments made by team member \"lselzer\" in May: 0\n",
      "Number of comments made by team member \"juba\" in April: 0\n",
      "Number of comments made by team member \"juba\" in May: 0\n",
      "Number of comments made by team member \"larmarange\" in April: 0\n",
      "Number of comments made by team member \"larmarange\" in May: 0\n",
      "Number of comments made by team member \"datalove\" in April: 0\n",
      "Number of comments made by team member \"datalove\" in May: 0\n",
      "Number of comments made by team member \"Kevin-M-Smith\" in April: 0\n",
      "Number of comments made by team member \"Kevin-M-Smith\" in May: 0\n",
      "Number of comments made by team member \"jonboiser\" in April: 1\n",
      "Number of comments made by team member \"jonboiser\" in May: 4\n",
      "Number of comments made by team member \"AlunHewinson\" in April: 0\n",
      "Number of comments made by team member \"AlunHewinson\" in May: 0\n",
      "Number of comments made by team member \"joethorley\" in April: 0\n",
      "Number of comments made by team member \"joethorley\" in May: 0\n",
      "Number of comments made by team member \"khotilov\" in April: 0\n",
      "Number of comments made by team member \"khotilov\" in May: 0\n",
      "Number of comments made by team member \"codecov-io\" in April: 1\n",
      "Number of comments made by team member \"codecov-io\" in May: 2\n",
      "Number of comments made by team member \"cderv\" in April: 0\n",
      "Number of comments made by team member \"cderv\" in May: 3\n",
      "Number of comments made by team member \"tsbattman\" in April: 0\n",
      "Number of comments made by team member \"tsbattman\" in May: 0\n",
      "Number of comments made by team member \"wlandau-lilly\" in April: 0\n",
      "Number of comments made by team member \"wlandau-lilly\" in May: 0\n",
      "Number of comments made by team member \"shrektan\" in April: 0\n",
      "Number of comments made by team member \"shrektan\" in May: 0\n",
      "Number of comments made by team member \"ctbrown\" in April: 0\n",
      "Number of comments made by team member \"ctbrown\" in May: 0\n",
      "Number of comments made by team member \"alberthkcheng\" in April: 0\n",
      "Number of comments made by team member \"alberthkcheng\" in May: 0\n",
      "Number of comments made by team member \"setempler\" in April: 0\n",
      "Number of comments made by team member \"setempler\" in May: 0\n",
      "Number of comments made by team member \"timgoodman\" in April: 0\n",
      "Number of comments made by team member \"timgoodman\" in May: 0\n",
      "Number of comments made by team member \"randomgambit\" in April: 1\n",
      "Number of comments made by team member \"randomgambit\" in May: 1\n",
      "Number of comments made by team member \"krlmlr\" in April: 0\n",
      "Number of comments made by team member \"krlmlr\" in May: 1\n",
      "Number of comments made by team member \"lorenzwalthert\" in April: 0\n",
      "Number of comments made by team member \"lorenzwalthert\" in May: 0\n",
      "Number of comments made by team member \"infotroph\" in April: 0\n",
      "Number of comments made by team member \"infotroph\" in May: 0\n",
      "Number of comments made by team member \"ateucher\" in April: 0\n",
      "Number of comments made by team member \"ateucher\" in May: 0\n",
      "Number of comments made by team member \"andrie\" in April: 0\n",
      "Number of comments made by team member \"andrie\" in May: 0\n",
      "Number of comments made by team member \"tdhock\" in April: 0\n",
      "Number of comments made by team member \"tdhock\" in May: 0\n",
      "Number of comments made by team member \"rubenarslan\" in April: 0\n",
      "Number of comments made by team member \"rubenarslan\" in May: 1\n",
      "Number of comments made by team member \"gagolews\" in April: 0\n",
      "Number of comments made by team member \"gagolews\" in May: 0\n",
      "Number of comments made by team member \"matthieugomez\" in April: 0\n",
      "Number of comments made by team member \"matthieugomez\" in May: 0\n",
      "Number of comments made by team member \"galangjs\" in April: 0\n",
      "Number of comments made by team member \"galangjs\" in May: 0\n",
      "Number of comments made by team member \"seanchrismurphy\" in April: 0\n",
      "Number of comments made by team member \"seanchrismurphy\" in May: 0\n",
      "Number of comments made by team member \"christophergandrud\" in April: 0\n",
      "Number of comments made by team member \"christophergandrud\" in May: 0\n",
      "Number of comments made by team member \"nachti\" in April: 0\n",
      "Number of comments made by team member \"nachti\" in May: 0\n",
      "Number of comments made by team member \"dselivanov\" in April: 0\n",
      "Number of comments made by team member \"dselivanov\" in May: 0\n",
      "Number of comments made by team member \"lmullen\" in April: 0\n",
      "Number of comments made by team member \"lmullen\" in May: 0\n",
      "Number of comments made by team member \"jcheng5\" in April: 0\n",
      "Number of comments made by team member \"jcheng5\" in May: 0\n",
      "Number of comments made by team member \"ideamotor\" in April: 0\n",
      "Number of comments made by team member \"ideamotor\" in May: 0\n",
      "Number of comments made by team member \"smbache\" in April: 0\n",
      "Number of comments made by team member \"smbache\" in May: 0\n",
      "Number of comments made by team member \"w9\" in April: 0\n",
      "Number of comments made by team member \"w9\" in May: 0\n",
      "Number of comments made by team member \"ahoho\" in April: 0\n",
      "Number of comments made by team member \"ahoho\" in May: 0\n",
      "Number of comments made by team member \"duarteguilherme\" in April: 0\n",
      "Number of comments made by team member \"duarteguilherme\" in May: 0\n",
      "Number of comments made by team member \"yutannihilation\" in April: 0\n",
      "Number of comments made by team member \"yutannihilation\" in May: 0\n",
      "Number of comments made by team member \"stephlocke\" in April: 0\n",
      "Number of comments made by team member \"stephlocke\" in May: 0\n",
      "Number of comments made by team member \"Shians\" in April: 0\n",
      "Number of comments made by team member \"Shians\" in May: 0\n",
      "Number of comments made by team member \"ClaytonJY\" in April: 0\n",
      "Number of comments made by team member \"ClaytonJY\" in May: 0\n",
      "Number of comments made by team member \"amhrasmussen\" in April: 0\n",
      "Number of comments made by team member \"amhrasmussen\" in May: 1\n",
      "Number of comments made by team member \"pachevalier\" in April: 1\n",
      "Number of comments made by team member \"pachevalier\" in May: 0\n",
      "Number of comments made by team member \"jrnold\" in April: 0\n",
      "Number of comments made by team member \"jrnold\" in May: 0\n",
      "Number of comments made by team member \"jonocarroll\" in April: 0\n",
      "Number of comments made by team member \"jonocarroll\" in May: 0\n",
      "Number of comments made by team member \"seanpor\" in April: 0\n",
      "Number of comments made by team member \"seanpor\" in May: 0\n",
      "Number of comments made by team member \"jonthegeek\" in April: 0\n",
      "Number of comments made by team member \"jonthegeek\" in May: 0\n",
      "Number of comments made by team member \"beckymaust\" in April: 0\n",
      "Number of comments made by team member \"beckymaust\" in May: 0\n",
      "Number of comments made by team member \"sastoudt\" in April: 1\n",
      "Number of comments made by team member \"sastoudt\" in May: 1\n",
      "Number of comments made by team member \"TEST\" in April: 0\n",
      "Number of comments made by team member \"TEST\" in May: 0\n"
     ]
    }
   ],
   "source": [
    "# Now checking comment counts in April and May per person against all authors/github users in teamMembers_dataset\n",
    "teamMember_commentsIncludingZeros_april = {}\n",
    "teamMember_commentsIncludingZeros_may = {}\n",
    "for index, row in teamMembers_dataset.iterrows():\n",
    "    author = row[\"github_username\"]\n",
    "    # April\n",
    "    teamMemberInitialCommentCount_april = teamMember_comments_april.get(author)\n",
    "    if teamMemberInitialCommentCount_april != None: teamMember_commentsIncludingZeros_april[author] = teamMemberInitialCommentCount_april\n",
    "    else: teamMember_commentsIncludingZeros_april[author] = 0\n",
    "    # May\n",
    "    teamMemberInitialCommentCount_may = teamMember_comments_may.get(author)\n",
    "    if teamMemberInitialCommentCount_may != None: teamMember_commentsIncludingZeros_may[author] = teamMemberInitialCommentCount_may\n",
    "    else: teamMember_commentsIncludingZeros_may[author] = 0\n",
    "        \n",
    "    print(\"Number of comments made by team member \\\"\" + author + \"\\\" in April:\", teamMember_commentsIncludingZeros_april.get(author))\n",
    "    print(\"Number of comments made by team member \\\"\" + author + \"\\\" in May:\", teamMember_commentsIncludingZeros_may.get(author))"
   ]
  },
  {
   "cell_type": "markdown",
   "id": "3e8dff6c",
   "metadata": {},
   "source": [
    "## 4. Calculate the number of comments made in the months of April and May each, by teams (i.e. number of comments made by team Slytherin in April, Slytherin in May, Gryffindor in April, Gryffindor in May etc.)."
   ]
  },
  {
   "cell_type": "code",
   "execution_count": 9,
   "id": "2f41b864",
   "metadata": {},
   "outputs": [
    {
     "name": "stdout",
     "output_type": "stream",
     "text": [
      "{'Ravenclaw': 12, 'Hufflepuff': 13, 'Slytherin': 2, 'Gryffindor': 3}\n",
      "{'Hufflepuff': 23, 'Slytherin': 6, 'Ravenclaw': 23, 'Gryffindor': 10}\n"
     ]
    }
   ],
   "source": [
    "# Getting counts of comments in comments_dataset per team\n",
    "team_comments_april = {}\n",
    "team_comments_may = {}\n",
    "for index, row in comments_dataset.iterrows():\n",
    "    author = row[\"author\"]\n",
    "    team = teamMembers_dataset.loc[teamMembers_dataset['github_username'] == author, \"team\"].tolist()[0]\n",
    "    month = row[\"created date\"].month\n",
    "    if month == 4:\n",
    "        # April\n",
    "        teamInDict_april = team_comments_april.get(team)\n",
    "        if teamInDict_april == None: team_comments_april[team] = 1\n",
    "        else: team_comments_april[team] = teamInDict_april + 1\n",
    "    elif month == 5:\n",
    "        # May\n",
    "        teamInDict_may = team_comments_may.get(team)\n",
    "        if teamInDict_may == None: team_comments_may[team] = 1\n",
    "        else: team_comments_may[team] = teamInDict_may + 1\n",
    "print(team_comments_april)\n",
    "print(team_comments_may)"
   ]
  },
  {
   "cell_type": "code",
   "execution_count": 10,
   "id": "def0c601",
   "metadata": {},
   "outputs": [
    {
     "name": "stdout",
     "output_type": "stream",
     "text": [
      "Number of comments made by team \"Ravenclaw\" in April: 12\n",
      "Number of comments made by team \"Ravenclaw\" in May: 23\n",
      "Number of comments made by team \"Slytherin\" in April: 2\n",
      "Number of comments made by team \"Slytherin\" in May: 6\n",
      "Number of comments made by team \"Gryffindor\" in April: 3\n",
      "Number of comments made by team \"Gryffindor\" in May: 10\n",
      "Number of comments made by team \"Hufflepuff\" in April: 13\n",
      "Number of comments made by team \"Hufflepuff\" in May: 23\n"
     ]
    }
   ],
   "source": [
    "# Now checking the comment counts in April and May per team against all teams in teamMembers_dataset\n",
    "team_commentsIncludingZeros_april = {}\n",
    "team_commentsIncludingZeros_may = {}\n",
    "for team in teamMembers_dataset[\"team\"].unique():\n",
    "    # April\n",
    "    teamInitialCommentCount_april = team_comments_april.get(team)\n",
    "    if teamInitialCommentCount_april != None: team_commentsIncludingZeros_april[team] = teamInitialCommentCount_april\n",
    "    else: team_commentsIncludingZeros_april[team] = 0\n",
    "    # May\n",
    "    teamInitialCommentCount_may = team_comments_may.get(team)\n",
    "    if teamInitialCommentCount_may != None: team_commentsIncludingZeros_may[team] = teamInitialCommentCount_may\n",
    "    else: team_commentsIncludingZeros_may[team] = 0\n",
    "        \n",
    "    print(\"Number of comments made by team \\\"\" + team + \"\\\" in April:\", team_commentsIncludingZeros_april.get(team))\n",
    "    print(\"Number of comments made by team \\\"\" + team + \"\\\" in May:\", team_commentsIncludingZeros_may.get(team))"
   ]
  },
  {
   "cell_type": "markdown",
   "id": "083e9f7e",
   "metadata": {},
   "source": [
    "## 5. Design and implement a data visualisation to show the amount of out of hours work done by each team member, based on the number of comments written between the hours of 6pm and 6am."
   ]
  },
  {
   "cell_type": "code",
   "execution_count": 63,
   "id": "7ecaf199",
   "metadata": {},
   "outputs": [],
   "source": [
    "# Getting counts of out-of-hours comments per person\n",
    "teamMember_outOfHours_comments = {}\n",
    "for index, row in comments_dataset.iterrows():\n",
    "    author = row[\"author\"]\n",
    "    timestamp = row[\"created date\"]\n",
    "    hour = timestamp.hour\n",
    "    if (hour < 6 or hour >= 18):\n",
    "        teamMember_commentCount = teamMember_outOfHours_comments.get(author)\n",
    "        if teamMember_commentCount != None: teamMember_outOfHours_comments[author] = teamMember_commentCount + 1\n",
    "        else: teamMember_outOfHours_comments[author] = 1"
   ]
  },
  {
   "cell_type": "code",
   "execution_count": 64,
   "id": "4fea4d11",
   "metadata": {},
   "outputs": [],
   "source": [
    "# Getting counts of out-of-hours comments per person, including those with 0 comments (i.e. Left-Joining with team members dataset)\n",
    "teamMember_outOfHours_commentsIncludingZeros = {}\n",
    "for index, row in teamMembers_dataset.iterrows():\n",
    "    author = row[\"github_username\"]\n",
    "    teamMemberOutoFHours_commentCount = teamMember_outOfHours_comments.get(author)\n",
    "    if teamMemberOutoFHours_commentCount != None: teamMember_outOfHours_commentsIncludingZeros[author] = teamMemberOutoFHours_commentCount\n",
    "    else: teamMember_outOfHours_commentsIncludingZeros[author] = 0"
   ]
  },
  {
   "cell_type": "code",
   "execution_count": 65,
   "id": "1f8c44d8",
   "metadata": {},
   "outputs": [
    {
     "data": {
      "text/html": [
       "<div>\n",
       "<style scoped>\n",
       "    .dataframe tbody tr th:only-of-type {\n",
       "        vertical-align: middle;\n",
       "    }\n",
       "\n",
       "    .dataframe tbody tr th {\n",
       "        vertical-align: top;\n",
       "    }\n",
       "\n",
       "    .dataframe thead th {\n",
       "        text-align: right;\n",
       "    }\n",
       "</style>\n",
       "<table border=\"1\" class=\"dataframe\">\n",
       "  <thead>\n",
       "    <tr style=\"text-align: right;\">\n",
       "      <th></th>\n",
       "      <th>Team Member GitHub Username</th>\n",
       "      <th>Number of out-of-hours comments</th>\n",
       "    </tr>\n",
       "  </thead>\n",
       "  <tbody>\n",
       "    <tr>\n",
       "      <th>0</th>\n",
       "      <td>hadley</td>\n",
       "      <td>87</td>\n",
       "    </tr>\n",
       "    <tr>\n",
       "      <th>1</th>\n",
       "      <td>kohske</td>\n",
       "      <td>26</td>\n",
       "    </tr>\n",
       "    <tr>\n",
       "      <th>2</th>\n",
       "      <td>lock</td>\n",
       "      <td>60</td>\n",
       "    </tr>\n",
       "    <tr>\n",
       "      <th>3</th>\n",
       "      <td>jiho</td>\n",
       "      <td>4</td>\n",
       "    </tr>\n",
       "    <tr>\n",
       "      <th>4</th>\n",
       "      <td>BrianDiggs</td>\n",
       "      <td>7</td>\n",
       "    </tr>\n",
       "    <tr>\n",
       "      <th>...</th>\n",
       "      <td>...</td>\n",
       "      <td>...</td>\n",
       "    </tr>\n",
       "    <tr>\n",
       "      <th>72</th>\n",
       "      <td>seanpor</td>\n",
       "      <td>1</td>\n",
       "    </tr>\n",
       "    <tr>\n",
       "      <th>73</th>\n",
       "      <td>jonthegeek</td>\n",
       "      <td>0</td>\n",
       "    </tr>\n",
       "    <tr>\n",
       "      <th>74</th>\n",
       "      <td>beckymaust</td>\n",
       "      <td>1</td>\n",
       "    </tr>\n",
       "    <tr>\n",
       "      <th>75</th>\n",
       "      <td>sastoudt</td>\n",
       "      <td>1</td>\n",
       "    </tr>\n",
       "    <tr>\n",
       "      <th>76</th>\n",
       "      <td>TEST</td>\n",
       "      <td>1</td>\n",
       "    </tr>\n",
       "  </tbody>\n",
       "</table>\n",
       "<p>77 rows × 2 columns</p>\n",
       "</div>"
      ],
      "text/plain": [
       "   Team Member GitHub Username  Number of out-of-hours comments\n",
       "0                       hadley                               87\n",
       "1                       kohske                               26\n",
       "2                         lock                               60\n",
       "3                         jiho                                4\n",
       "4                   BrianDiggs                                7\n",
       "..                         ...                              ...\n",
       "72                     seanpor                                1\n",
       "73                  jonthegeek                                0\n",
       "74                  beckymaust                                1\n",
       "75                    sastoudt                                1\n",
       "76                        TEST                                1\n",
       "\n",
       "[77 rows x 2 columns]"
      ]
     },
     "execution_count": 65,
     "metadata": {},
     "output_type": "execute_result"
    }
   ],
   "source": [
    "# Convert to DataFrame\n",
    "teamMember_outOfHours_comments_df = pd.DataFrame.from_dict(teamMember_outOfHours_commentsIncludingZeros, orient='index',\n",
    "                                    columns=[\"Number of out-of-hours comments\"]).reset_index().rename(\n",
    "                                    columns={\"index\":\"Team Member GitHub Username\"})\n",
    "teamMember_outOfHours_comments_df"
   ]
  },
  {
   "cell_type": "code",
   "execution_count": 66,
   "id": "4f342865",
   "metadata": {},
   "outputs": [
    {
     "data": {
      "text/plain": [
       "Text(0.5, 1.0, 'Count Distribution of Out-of-Hours Comments by each team member')"
      ]
     },
     "execution_count": 66,
     "metadata": {},
     "output_type": "execute_result"
    },
    {
     "data": {
      "image/png": "[encoded data removed]",
      "text/plain": [
       "<Figure size 1296x720 with 1 Axes>"
      ]
     },
     "metadata": {
      "needs_background": "light"
     },
     "output_type": "display_data"
    }
   ],
   "source": [
    "plt.figure(figsize=(18,10))\n",
    "sb.barplot(x=\"Team Member GitHub Username\", y=\"Number of out-of-hours comments\", data=teamMember_outOfHours_comments_df)\n",
    "plt.xticks(rotation=90)\n",
    "plt.title(\"Count Distribution of Out-of-Hours Comments by each team member\")"
   ]
  },
  {
   "cell_type": "markdown",
   "id": "f81d693a",
   "metadata": {},
   "source": [
    "## 6. Design and implement a similar data visualisation that compares the amount of out of hours work done by each team"
   ]
  },
  {
   "cell_type": "code",
   "execution_count": 61,
   "id": "78805fa3",
   "metadata": {},
   "outputs": [
    {
     "name": "stdout",
     "output_type": "stream",
     "text": [
      "{'Gryffindor': 127, 'Slytherin': 53, 'Ravenclaw': 121, 'Hufflepuff': 94}\n"
     ]
    }
   ],
   "source": [
    "# Getting counts of out-of-hours comments per team\n",
    "team_outOfHours_comments = {}\n",
    "for index, row in comments_dataset.iterrows():\n",
    "    author = row[\"author\"]\n",
    "    team = teamMembers_dataset.loc[teamMembers_dataset['github_username'] == author, \"team\"].tolist()[0]\n",
    "    timestamp = row[\"created date\"]\n",
    "    hour = timestamp.hour\n",
    "    if (hour < 6 or hour >= 18):\n",
    "        team_commentCount = team_outOfHours_comments.get(team)\n",
    "        if team_commentCount != None: team_outOfHours_comments[team] = team_commentCount + 1\n",
    "        else: team_outOfHours_comments[team] = 1"
   ]
  },
  {
   "cell_type": "code",
   "execution_count": 62,
   "id": "6fa63863",
   "metadata": {},
   "outputs": [
    {
     "name": "stdout",
     "output_type": "stream",
     "text": [
      "{'Ravenclaw': 121, 'Slytherin': 53, 'Gryffindor': 127, 'Hufflepuff': 94}\n"
     ]
    }
   ],
   "source": [
    "# Getting counts of out-of-hours comments per team, including teams with 0 comments (i.e. Left-Joining with team members dataset)\n",
    "team_outOfHours_commentsIncludingZeros = {}\n",
    "for team in teamMembers_dataset[\"team\"].unique():\n",
    "    teamInitial_commentCount = team_outOfHours_comments.get(team)\n",
    "    if teamInitial_commentCount != None: team_outOfHours_commentsIncludingZeros[team] = teamInitial_commentCount\n",
    "    else: team_outOfHours_commentsIncludingZeros[team] = 0"
   ]
  },
  {
   "cell_type": "code",
   "execution_count": 68,
   "id": "1e3d646e",
   "metadata": {},
   "outputs": [
    {
     "data": {
      "text/html": [
       "<div>\n",
       "<style scoped>\n",
       "    .dataframe tbody tr th:only-of-type {\n",
       "        vertical-align: middle;\n",
       "    }\n",
       "\n",
       "    .dataframe tbody tr th {\n",
       "        vertical-align: top;\n",
       "    }\n",
       "\n",
       "    .dataframe thead th {\n",
       "        text-align: right;\n",
       "    }\n",
       "</style>\n",
       "<table border=\"1\" class=\"dataframe\">\n",
       "  <thead>\n",
       "    <tr style=\"text-align: right;\">\n",
       "      <th></th>\n",
       "      <th>Team Name</th>\n",
       "      <th>Number of out-of-hours comments</th>\n",
       "    </tr>\n",
       "  </thead>\n",
       "  <tbody>\n",
       "    <tr>\n",
       "      <th>0</th>\n",
       "      <td>Ravenclaw</td>\n",
       "      <td>121</td>\n",
       "    </tr>\n",
       "    <tr>\n",
       "      <th>1</th>\n",
       "      <td>Slytherin</td>\n",
       "      <td>53</td>\n",
       "    </tr>\n",
       "    <tr>\n",
       "      <th>2</th>\n",
       "      <td>Gryffindor</td>\n",
       "      <td>127</td>\n",
       "    </tr>\n",
       "    <tr>\n",
       "      <th>3</th>\n",
       "      <td>Hufflepuff</td>\n",
       "      <td>94</td>\n",
       "    </tr>\n",
       "  </tbody>\n",
       "</table>\n",
       "</div>"
      ],
      "text/plain": [
       "    Team Name  Number of out-of-hours comments\n",
       "0   Ravenclaw                              121\n",
       "1   Slytherin                               53\n",
       "2  Gryffindor                              127\n",
       "3  Hufflepuff                               94"
      ]
     },
     "execution_count": 68,
     "metadata": {},
     "output_type": "execute_result"
    }
   ],
   "source": [
    "# Convert to DataFrame\n",
    "team_outOfHours_comments_df = pd.DataFrame.from_dict(team_outOfHours_commentsIncludingZeros, orient='index',\n",
    "                                    columns=[\"Number of out-of-hours comments\"]).reset_index().rename(\n",
    "                                    columns={\"index\":\"Team Name\"})\n",
    "team_outOfHours_comments_df"
   ]
  },
  {
   "cell_type": "code",
   "execution_count": 73,
   "id": "268e6ed8",
   "metadata": {},
   "outputs": [
    {
     "data": {
      "text/plain": [
       "Text(0.5, 1.0, 'Count Distribution of Out-of-Hours Comments by each team')"
      ]
     },
     "execution_count": 73,
     "metadata": {},
     "output_type": "execute_result"
    },
    {
     "data": {
      "image/png": "[encoded data removed]",
      "text/plain": [
       "<Figure size 360x504 with 1 Axes>"
      ]
     },
     "metadata": {
      "needs_background": "light"
     },
     "output_type": "display_data"
    }
   ],
   "source": [
    "plt.figure(figsize=(5,7))\n",
    "sb.barplot(x=\"Team Name\", y=\"Number of out-of-hours comments\", data=team_outOfHours_comments_df)\n",
    "plt.title(\"Count Distribution of Out-of-Hours Comments by each team\")"
   ]
  },
  {
   "cell_type": "markdown",
   "id": "7ba12632",
   "metadata": {},
   "source": [
    "## Insights\n"
   ]
  },
  {
   "cell_type": "markdown",
   "id": "2b7c5ce1",
   "metadata": {},
   "source": [
    "The data shows that while most team members have made at least 1 out-of-hours comment, the majority of the out-of-hours comments have been made by only a few people, such as \"hadley\", \"vspinu\", \"lock\", etc. This may suggest that too much work is falling on these team members, and thus work may need to be distributed differently to reduce their chances of burning out.\n",
    "\n",
    "Additionally, many more out-of-hours comments have come from members in teams \"Gryffindor\", \"Ravenclaw\", and \"Hufflepuff\" compared to out-of-hours comments from team \"Slytherin\". This may suggest these teams are spending more hours on their work than Slytherin is on its work, which may thus suggest that the work given to these teams may naturally require much more effort than the work given to team Slytherin. Redistributing the amount of work given to each team may allow the number of out-of-hours comments from each team to be more balanced, thus reducing the chances of any team experiencing burnout."
   ]
  }
 ],
 "metadata": {
  "kernelspec": {
   "display_name": "Python 3",
   "language": "python",
   "name": "python3"
  },
  "language_info": {
   "codemirror_mode": {
    "name": "ipython",
    "version": 3
   },
   "file_extension": ".py",
   "mimetype": "text/x-python",
   "name": "python",
   "nbconvert_exporter": "python",
   "pygments_lexer": "ipython3",
   "version": "3.8.8"
  }
 },
 "nbformat": 4,
 "nbformat_minor": 5
}
